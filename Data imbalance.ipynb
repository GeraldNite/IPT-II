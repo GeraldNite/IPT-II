{
 "cells": [
  {
   "cell_type": "markdown",
   "metadata": {},
   "source": [
    "###                                                    Gerald Nite\n",
    "###                                         T/UDOM/2017/11799\n",
    "###                                                      BSc TE"
   ]
  },
  {
   "cell_type": "markdown",
   "metadata": {},
   "source": [
    "## Data imbalance"
   ]
  },
  {
   "cell_type": "markdown",
   "metadata": {},
   "source": [
    "### 1. What is data imbalance?\n",
    "   is recognized as one of the major problem in `machine learning`, as most machine learning algorithms assume that data is equally distributed. This cause machine learning classfiers to be **baised** to majority classes. This cause poor classification of the minority class and sometimes classfiers predict all data set as **majority classes**"
   ]
  },
  {
   "cell_type": "markdown",
   "metadata": {},
   "source": [
    "### 2. How do we do data imbalance\n",
    "   The following are the methods of handling imbalanced data:\n",
    "   #### - Change the perfomance metric\n",
    "   Accuracy is is not the best for evaluating imbalanced data, it is misleading. Methods which can be used instead are `confusion matrix`, `Presicion`, `recall` and `F1_Score`\n",
    "   #### - Change the algorithm\n",
    "   It is good to try many algorith on a problem, it can help with imbalanced data. `Desicion Tree` perfom well on imbalanced data"
   ]
  },
  {
   "cell_type": "markdown",
   "metadata": {},
   "source": [
    "### 4.Why do we do data balancing\n",
    "Baanced data are good, but we loose information about very small frequencies that will affect the accuracy"
   ]
  },
  {
   "cell_type": "markdown",
   "metadata": {},
   "source": [
    "### 5. What methods are used to balance data\n",
    "#### - Over-sampling\n",
    "This increases the number of minority class in the training set. Has advantage that no information is lost in training set\n",
    "#### - Under-sampling \n",
    "aims to reduce the number of majority samples. Since it is removing observations from the original data set, it might discard useful information"
   ]
  }
 ],
 "metadata": {
  "kernelspec": {
   "display_name": "Python 3",
   "language": "python",
   "name": "python3"
  },
  "language_info": {
   "codemirror_mode": {
    "name": "ipython",
    "version": 3
   },
   "file_extension": ".py",
   "mimetype": "text/x-python",
   "name": "python",
   "nbconvert_exporter": "python",
   "pygments_lexer": "ipython3",
   "version": "3.6.5"
  }
 },
 "nbformat": 4,
 "nbformat_minor": 2
}
